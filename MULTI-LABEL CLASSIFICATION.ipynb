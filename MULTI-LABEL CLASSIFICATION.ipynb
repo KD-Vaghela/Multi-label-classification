{
 "cells": [
  {
   "cell_type": "code",
   "execution_count": 1,
   "id": "f61bec17",
   "metadata": {},
   "outputs": [
    {
     "ename": "ModuleNotFoundError",
     "evalue": "No module named 'sklearn'",
     "output_type": "error",
     "traceback": [
      "\u001b[1;31m---------------------------------------------------------------------------\u001b[0m",
      "\u001b[1;31mModuleNotFoundError\u001b[0m                       Traceback (most recent call last)",
      "Cell \u001b[1;32mIn[1], line 4\u001b[0m\n\u001b[0;32m      2\u001b[0m InteractiveShell\u001b[39m.\u001b[39mast_node_interactivity \u001b[39m=\u001b[39m \u001b[39m\"\u001b[39m\u001b[39mall\u001b[39m\u001b[39m\"\u001b[39m\n\u001b[0;32m      3\u001b[0m \u001b[39mimport\u001b[39;00m \u001b[39mnumpy\u001b[39;00m \u001b[39mas\u001b[39;00m \u001b[39mnp\u001b[39;00m\n\u001b[1;32m----> 4\u001b[0m \u001b[39mfrom\u001b[39;00m \u001b[39msklearn\u001b[39;00m\u001b[39m.\u001b[39;00m\u001b[39mlinear_model\u001b[39;00m \u001b[39mimport\u001b[39;00m SGDClassifier\n\u001b[0;32m      5\u001b[0m \u001b[39mfrom\u001b[39;00m \u001b[39msklearn\u001b[39;00m\u001b[39m.\u001b[39;00m\u001b[39mlinear_model\u001b[39;00m \u001b[39mimport\u001b[39;00m LogisticRegression\n\u001b[0;32m      6\u001b[0m \u001b[39mfrom\u001b[39;00m \u001b[39msklearn\u001b[39;00m\u001b[39m.\u001b[39;00m\u001b[39msvm\u001b[39;00m \u001b[39mimport\u001b[39;00m LinearSVC                  \n",
      "\u001b[1;31mModuleNotFoundError\u001b[0m: No module named 'sklearn'"
     ]
    }
   ],
   "source": [
    "from IPython.core.interactiveshell import InteractiveShell\n",
    "InteractiveShell.ast_node_interactivity = \"all\"\n",
    "import numpy as np\n",
    "from sklearn.linear_model import SGDClassifier\n",
    "from sklearn.linear_model import LogisticRegression\n",
    "from sklearn.svm import LinearSVC                  \n",
    "import pandas as pd"
   ]
  },
  {
   "cell_type": "code",
   "execution_count": null,
   "id": "14bed4fa",
   "metadata": {},
   "outputs": [
    {
     "data": {
      "text/html": [
       "<div>\n",
       "<style scoped>\n",
       "    .dataframe tbody tr th:only-of-type {\n",
       "        vertical-align: middle;\n",
       "    }\n",
       "\n",
       "    .dataframe tbody tr th {\n",
       "        vertical-align: top;\n",
       "    }\n",
       "\n",
       "    .dataframe thead th {\n",
       "        text-align: right;\n",
       "    }\n",
       "</style>\n",
       "<table border=\"1\" class=\"dataframe\">\n",
       "  <thead>\n",
       "    <tr style=\"text-align: right;\">\n",
       "      <th></th>\n",
       "      <th>id</th>\n",
       "      <th>name</th>\n",
       "      <th>document_text</th>\n",
       "      <th>cat_name</th>\n",
       "    </tr>\n",
       "  </thead>\n",
       "  <tbody>\n",
       "    <tr>\n",
       "      <th>0</th>\n",
       "      <td>22474</td>\n",
       "      <td>Information Regarding the Merger of Navios Mar...</td>\n",
       "      <td>At a special meeting held on March 24, 2021 sh...</td>\n",
       "      <td>Corporate Communications</td>\n",
       "    </tr>\n",
       "    <tr>\n",
       "      <th>1</th>\n",
       "      <td>27460</td>\n",
       "      <td>Announcement on Approving the Change of Member...</td>\n",
       "      <td>On April 2, 2021, the China Financial Futures ...</td>\n",
       "      <td>Securities Settlement</td>\n",
       "    </tr>\n",
       "    <tr>\n",
       "      <th>2</th>\n",
       "      <td>6926</td>\n",
       "      <td>SFC Suspends Shiu Yau Wah for Five Months</td>\n",
       "      <td>The Securities and Futures Commission (SFC) ha...</td>\n",
       "      <td>Antitrust</td>\n",
       "    </tr>\n",
       "    <tr>\n",
       "      <th>3</th>\n",
       "      <td>6982</td>\n",
       "      <td>Renminbi RMB Haircut - February 4, 2020</td>\n",
       "      <td>Pursuant to Section 2.6.2 of the Clearing Hous...</td>\n",
       "      <td>Securities Settlement</td>\n",
       "    </tr>\n",
       "    <tr>\n",
       "      <th>4</th>\n",
       "      <td>5022</td>\n",
       "      <td>Anti-Money Laundering, Countering Financing of...</td>\n",
       "      <td>Money laundering and terrorism financing (ML/T...</td>\n",
       "      <td>Financial Crime</td>\n",
       "    </tr>\n",
       "  </tbody>\n",
       "</table>\n",
       "</div>"
      ],
      "text/plain": [
       "      id                                               name  \\\n",
       "0  22474  Information Regarding the Merger of Navios Mar...   \n",
       "1  27460  Announcement on Approving the Change of Member...   \n",
       "2   6926          SFC Suspends Shiu Yau Wah for Five Months   \n",
       "3   6982            Renminbi RMB Haircut - February 4, 2020   \n",
       "4   5022  Anti-Money Laundering, Countering Financing of...   \n",
       "\n",
       "                                       document_text                  cat_name  \n",
       "0  At a special meeting held on March 24, 2021 sh...  Corporate Communications  \n",
       "1  On April 2, 2021, the China Financial Futures ...     Securities Settlement  \n",
       "2  The Securities and Futures Commission (SFC) ha...                 Antitrust  \n",
       "3  Pursuant to Section 2.6.2 of the Clearing Hous...     Securities Settlement  \n",
       "4  Money laundering and terrorism financing (ML/T...           Financial Crime  "
      ]
     },
     "execution_count": 69,
     "metadata": {},
     "output_type": "execute_result"
    }
   ],
   "source": [
    "import pandas as pd\n",
    "#IMPORTING DATASET\n",
    "data=pd.read_csv(\"D:/train.csv\",header=0)\n",
    "data.head()"
   ]
  },
  {
   "cell_type": "code",
   "execution_count": 71,
   "id": "655e0174",
   "metadata": {},
   "outputs": [],
   "source": [
    "#GROUPING BY THE DATA WITH RESPECT TO ID AND DOCUMENT_TEXT AND CONCATENATING THE VALUES IN CAT_NAME COLUMN\n",
    "data_2 = data.groupby(['id','document_text'])['cat_name'].apply(','.join).reset_index()\n"
   ]
  },
  {
   "cell_type": "code",
   "execution_count": 72,
   "id": "4141961b",
   "metadata": {},
   "outputs": [
    {
     "data": {
      "text/html": [
       "<div>\n",
       "<style scoped>\n",
       "    .dataframe tbody tr th:only-of-type {\n",
       "        vertical-align: middle;\n",
       "    }\n",
       "\n",
       "    .dataframe tbody tr th {\n",
       "        vertical-align: top;\n",
       "    }\n",
       "\n",
       "    .dataframe thead th {\n",
       "        text-align: right;\n",
       "    }\n",
       "</style>\n",
       "<table border=\"1\" class=\"dataframe\">\n",
       "  <thead>\n",
       "    <tr style=\"text-align: right;\">\n",
       "      <th></th>\n",
       "      <th>id</th>\n",
       "      <th>document_text</th>\n",
       "      <th>cat_name</th>\n",
       "    </tr>\n",
       "  </thead>\n",
       "  <tbody>\n",
       "    <tr>\n",
       "      <th>0</th>\n",
       "      <td>4772</td>\n",
       "      <td>Solium Financial Services LLC (\"SFS\") is a bro...</td>\n",
       "      <td>Licensure and certification,Definitions,Licens...</td>\n",
       "    </tr>\n",
       "    <tr>\n",
       "      <th>1</th>\n",
       "      <td>4774</td>\n",
       "      <td>A new year brings new investment opportunities...</td>\n",
       "      <td>Market Risk,Regulatory Actions,Fraud,Financial...</td>\n",
       "    </tr>\n",
       "    <tr>\n",
       "      <th>2</th>\n",
       "      <td>4775</td>\n",
       "      <td>The Alberta Securities Commission (ASC) has co...</td>\n",
       "      <td>Securities Settlement,Trade Settlement,Licensu...</td>\n",
       "    </tr>\n",
       "    <tr>\n",
       "      <th>3</th>\n",
       "      <td>4776</td>\n",
       "      <td>The Canadian Securities Administrators (CSA) p...</td>\n",
       "      <td>Securities Settlement,Required Disclosures,Leg...</td>\n",
       "    </tr>\n",
       "    <tr>\n",
       "      <th>4</th>\n",
       "      <td>4778</td>\n",
       "      <td>On April 6, 2017, the Canadian Securities Admi...</td>\n",
       "      <td>Consumer protection,Regulatory Reporting,Deliv...</td>\n",
       "    </tr>\n",
       "    <tr>\n",
       "      <th>...</th>\n",
       "      <td>...</td>\n",
       "      <td>...</td>\n",
       "      <td>...</td>\n",
       "    </tr>\n",
       "    <tr>\n",
       "      <th>9854</th>\n",
       "      <td>57201</td>\n",
       "      <td>Having a good track record when it comes to me...</td>\n",
       "      <td>Financial Crime,Consumer protection</td>\n",
       "    </tr>\n",
       "    <tr>\n",
       "      <th>9855</th>\n",
       "      <td>57207</td>\n",
       "      <td>The Bank of Russia has decided, starting from ...</td>\n",
       "      <td>Payments and Settlements,Securities Settlement...</td>\n",
       "    </tr>\n",
       "    <tr>\n",
       "      <th>9856</th>\n",
       "      <td>57234</td>\n",
       "      <td>Consob published application of a pecuniary ad...</td>\n",
       "      <td>Examinations,Regulatory Reporting,Accounting a...</td>\n",
       "    </tr>\n",
       "    <tr>\n",
       "      <th>9857</th>\n",
       "      <td>57240</td>\n",
       "      <td>On May 31, 2022, Shenzhen Stock Exchange publi...</td>\n",
       "      <td>Securities Issuing,Corporate Communications</td>\n",
       "    </tr>\n",
       "    <tr>\n",
       "      <th>9858</th>\n",
       "      <td>57252</td>\n",
       "      <td>Effective Monday, June 13, 2022, Chicago Merca...</td>\n",
       "      <td>Commodities Trading,Contract Provisions</td>\n",
       "    </tr>\n",
       "  </tbody>\n",
       "</table>\n",
       "<p>9859 rows × 3 columns</p>\n",
       "</div>"
      ],
      "text/plain": [
       "         id                                      document_text  \\\n",
       "0      4772  Solium Financial Services LLC (\"SFS\") is a bro...   \n",
       "1      4774  A new year brings new investment opportunities...   \n",
       "2      4775  The Alberta Securities Commission (ASC) has co...   \n",
       "3      4776  The Canadian Securities Administrators (CSA) p...   \n",
       "4      4778  On April 6, 2017, the Canadian Securities Admi...   \n",
       "...     ...                                                ...   \n",
       "9854  57201  Having a good track record when it comes to me...   \n",
       "9855  57207  The Bank of Russia has decided, starting from ...   \n",
       "9856  57234  Consob published application of a pecuniary ad...   \n",
       "9857  57240  On May 31, 2022, Shenzhen Stock Exchange publi...   \n",
       "9858  57252  Effective Monday, June 13, 2022, Chicago Merca...   \n",
       "\n",
       "                                               cat_name  \n",
       "0     Licensure and certification,Definitions,Licens...  \n",
       "1     Market Risk,Regulatory Actions,Fraud,Financial...  \n",
       "2     Securities Settlement,Trade Settlement,Licensu...  \n",
       "3     Securities Settlement,Required Disclosures,Leg...  \n",
       "4     Consumer protection,Regulatory Reporting,Deliv...  \n",
       "...                                                 ...  \n",
       "9854                Financial Crime,Consumer protection  \n",
       "9855  Payments and Settlements,Securities Settlement...  \n",
       "9856  Examinations,Regulatory Reporting,Accounting a...  \n",
       "9857        Securities Issuing,Corporate Communications  \n",
       "9858            Commodities Trading,Contract Provisions  \n",
       "\n",
       "[9859 rows x 3 columns]"
      ]
     },
     "execution_count": 72,
     "metadata": {},
     "output_type": "execute_result"
    }
   ],
   "source": [
    "data_2"
   ]
  },
  {
   "cell_type": "code",
   "execution_count": 73,
   "id": "830ec617-8d51-45c0-89d8-668b9b7fab51",
   "metadata": {},
   "outputs": [],
   "source": [
    "#MAKING A LIST OF CATEGORY NAMES AND A LIST OF DOCUMENTS\n",
    "cat_name_list = [x.split(',') for x in data_2['cat_name'].tolist()]\n",
    "doc_list = data_2['document_text'].values.tolist()"
   ]
  },
  {
   "cell_type": "code",
   "execution_count": 78,
   "id": "94e0b56c-5407-45b0-8f33-c61501f8c2a9",
   "metadata": {},
   "outputs": [
    {
     "data": {
      "text/plain": [
       "array([[0, 0, 0, 1, 0, 1, 0, 0, 0, 0, 1, 0, 0, 0, 0, 0, 0, 0, 0, 0, 0, 0,\n",
       "        1, 1, 1, 1, 0, 0, 0, 0, 0, 0, 0, 0, 0, 0, 0, 0, 0, 0, 0, 0, 0, 0,\n",
       "        0, 0, 0, 0, 0, 0],\n",
       "       [0, 0, 0, 0, 0, 0, 0, 0, 0, 0, 0, 0, 0, 0, 0, 0, 1, 0, 1, 0, 0, 0,\n",
       "        0, 0, 0, 0, 0, 0, 0, 1, 0, 0, 0, 0, 0, 0, 0, 0, 1, 0, 0, 0, 0, 0,\n",
       "        0, 0, 0, 0, 0, 0],\n",
       "       [0, 0, 0, 1, 0, 1, 0, 0, 0, 0, 0, 0, 0, 1, 0, 0, 0, 0, 0, 0, 0, 0,\n",
       "        1, 0, 0, 1, 0, 0, 0, 0, 0, 0, 0, 0, 0, 0, 0, 0, 0, 0, 0, 0, 0, 0,\n",
       "        0, 0, 1, 1, 0, 1],\n",
       "       [0, 0, 0, 0, 0, 0, 0, 0, 0, 0, 0, 1, 0, 0, 0, 0, 0, 0, 0, 0, 0, 0,\n",
       "        1, 0, 0, 0, 0, 0, 0, 0, 0, 0, 0, 0, 0, 0, 0, 0, 0, 1, 1, 0, 0, 0,\n",
       "        0, 0, 0, 1, 0, 0],\n",
       "       [0, 0, 0, 0, 0, 0, 1, 0, 0, 0, 0, 1, 0, 0, 0, 0, 0, 0, 0, 0, 0, 0,\n",
       "        0, 0, 0, 0, 0, 0, 0, 0, 0, 0, 0, 0, 0, 0, 0, 0, 0, 1, 1, 0, 0, 0,\n",
       "        0, 0, 0, 1, 0, 0]])"
      ]
     },
     "execution_count": 78,
     "metadata": {},
     "output_type": "execute_result"
    },
    {
     "data": {
      "text/plain": [
       "(9859, 50)"
      ]
     },
     "execution_count": 78,
     "metadata": {},
     "output_type": "execute_result"
    },
    {
     "data": {
      "text/plain": [
       "array(['Accounting and Finance', 'Antitrust', 'Banking', 'Broker Dealer',\n",
       "       'Commodities Trading', 'Compliance Management',\n",
       "       'Consumer protection', 'Contract Provisions',\n",
       "       'Corporate Communications', 'Corporate Governance', 'Definitions',\n",
       "       'Delivery', 'Examinations', 'Exemptions', 'Fees and Charges',\n",
       "       'Financial Accounting', 'Financial Crime', 'Forms', 'Fraud',\n",
       "       'IT Risk', 'Information Filing', 'Insurance', 'Legal',\n",
       "       'Legal Proceedings', 'Licensing', 'Licensure and certification',\n",
       "       'Liquidity Risk', 'Listing', 'Market Abuse', 'Market Risk',\n",
       "       'Monetary and Economic Policy', 'Money Services',\n",
       "       'Money-Laundering and Terrorist Financing', 'Natural Disasters',\n",
       "       'Payments and Settlements', 'Powers and Duties', 'Quotation',\n",
       "       'Records Maintenance', 'Regulatory Actions',\n",
       "       'Regulatory Reporting', 'Required Disclosures', 'Research',\n",
       "       'Risk Management', 'Securities Clearing', 'Securities Issuing',\n",
       "       'Securities Management', 'Securities Sales',\n",
       "       'Securities Settlement', 'Trade Pricing', 'Trade Settlement'],\n",
       "      dtype=object)"
      ]
     },
     "execution_count": 78,
     "metadata": {},
     "output_type": "execute_result"
    },
    {
     "name": "stdout",
     "output_type": "stream",
     "text": [
      "docs shape 9859 y shape (9859, 50)\n"
     ]
    }
   ],
   "source": [
    "#DOING ONE HOT ENCODING OF THE CATEGORIES\n",
    "from sklearn.preprocessing import MultiLabelBinarizer\n",
    "import numpy as np\n",
    "\n",
    "mlb = MultiLabelBinarizer()\n",
    "\n",
    "Y=mlb.fit_transform(cat_name_list)\n",
    "# check size of indicator matrix\n",
    "# print some rows \n",
    "Y[0:5]\n",
    "Y.shape\n",
    "# check classes\n",
    "mlb.classes_\n",
    "print('docs shape',len(doc_list), 'y shape',Y.shape)\n",
    "\n"
   ]
  },
  {
   "cell_type": "code",
   "execution_count": 79,
   "id": "ba67de03-9e02-47d4-b5ac-0497bd052315",
   "metadata": {},
   "outputs": [],
   "source": [
    "#MAKING TFIDF MATRIX \n",
    "from sklearn.feature_extraction.text import TfidfVectorizer\n",
    "\n",
    "tfidf = TfidfVectorizer(stop_words=\"english\",min_df=2)\n",
    "matrx = tfidf.fit_transform(data_2['document_text'])\n"
   ]
  },
  {
   "cell_type": "code",
   "execution_count": 80,
   "id": "64c77660-dd3d-44f6-b4e6-8d8892dd0593",
   "metadata": {},
   "outputs": [],
   "source": [
    "from sklearn.svm import LinearSVC\n",
    "from sklearn.model_selection import train_test_split\n",
    "from sklearn.multiclass import OneVsRestClassifier\n",
    "#SPLITTING THE DATA INTO TRAIN AND TEST DATA\n",
    "X_train, X_test, Y_train, Y_test = train_test_split(matrx, Y, test_size=0.3, random_state=0)\n",
    "#FITTING THE CLASSIFER ON TRAIN DATA\n",
    "clf =  OneVsRestClassifier(LinearSVC()).fit(X_train,Y_train)"
   ]
  },
  {
   "cell_type": "code",
   "execution_count": 84,
   "id": "0d5e387e",
   "metadata": {},
   "outputs": [
    {
     "data": {
      "text/plain": [
       "(2958, 50)"
      ]
     },
     "execution_count": 84,
     "metadata": {},
     "output_type": "execute_result"
    },
    {
     "name": "stdout",
     "output_type": "stream",
     "text": [
      "predicted:\n"
     ]
    },
    {
     "data": {
      "text/plain": [
       "array([[0, 0, 0, 0, 0, 0, 0, 0, 0, 1, 0, 0, 0, 0, 0, 0, 0, 0, 0, 0, 0, 0,\n",
       "        0, 0, 1, 0, 0, 0, 0, 0, 0, 0, 0, 0, 1, 0, 0, 0, 0, 0, 0, 0, 0, 1,\n",
       "        0, 0, 0, 0, 0, 0],\n",
       "       [0, 0, 1, 0, 0, 0, 0, 0, 0, 0, 0, 0, 0, 0, 0, 0, 0, 0, 0, 0, 0, 0,\n",
       "        0, 0, 0, 0, 0, 0, 0, 0, 1, 0, 0, 1, 0, 0, 0, 0, 0, 1, 0, 0, 0, 0,\n",
       "        0, 0, 0, 0, 0, 0]])"
      ]
     },
     "execution_count": 84,
     "metadata": {},
     "output_type": "execute_result"
    },
    {
     "name": "stdout",
     "output_type": "stream",
     "text": [
      "actual:\n"
     ]
    },
    {
     "data": {
      "text/plain": [
       "array([[0, 0, 0, 0, 0, 0, 0, 0, 0, 1, 0, 0, 0, 0, 0, 0, 0, 0, 0, 0, 0, 0,\n",
       "        0, 0, 1, 0, 0, 0, 0, 0, 0, 0, 0, 0, 1, 0, 0, 0, 0, 0, 0, 0, 0, 1,\n",
       "        0, 0, 0, 0, 0, 0],\n",
       "       [0, 0, 1, 0, 0, 1, 0, 0, 0, 0, 0, 0, 0, 0, 0, 0, 0, 0, 0, 0, 0, 0,\n",
       "        0, 0, 0, 0, 0, 0, 0, 0, 0, 0, 0, 1, 0, 0, 0, 0, 0, 1, 0, 0, 0, 0,\n",
       "        0, 0, 0, 0, 0, 0]])"
      ]
     },
     "execution_count": 84,
     "metadata": {},
     "output_type": "execute_result"
    },
    {
     "name": "stdout",
     "output_type": "stream",
     "text": [
      "                                          precision    recall  f1-score   support\n",
      "\n",
      "                  Accounting and Finance       0.85      0.47      0.61       268\n",
      "                               Antitrust       0.95      0.68      0.79       281\n",
      "                                 Banking       0.95      0.73      0.83       317\n",
      "                           Broker Dealer       0.91      0.73      0.81       198\n",
      "                     Commodities Trading       0.93      0.85      0.89       199\n",
      "                   Compliance Management       0.94      0.66      0.77       443\n",
      "                     Consumer protection       0.90      0.64      0.75       292\n",
      "                     Contract Provisions       0.90      0.69      0.78       345\n",
      "                Corporate Communications       0.80      0.45      0.58       163\n",
      "                    Corporate Governance       0.79      0.55      0.65       277\n",
      "                             Definitions       0.91      0.54      0.68       175\n",
      "                                Delivery       0.97      0.75      0.84       242\n",
      "                            Examinations       0.87      0.70      0.78       558\n",
      "                              Exemptions       0.93      0.59      0.72       339\n",
      "                        Fees and Charges       0.95      0.78      0.86       377\n",
      "                    Financial Accounting       0.90      0.49      0.64       168\n",
      "                         Financial Crime       0.92      0.71      0.80       352\n",
      "                                   Forms       0.93      0.66      0.77       136\n",
      "                                   Fraud       0.96      0.74      0.84       278\n",
      "                                 IT Risk       0.90      0.48      0.63       130\n",
      "                      Information Filing       0.85      0.63      0.73       418\n",
      "                               Insurance       0.92      0.66      0.77       243\n",
      "                                   Legal       0.79      0.44      0.57       268\n",
      "                       Legal Proceedings       0.86      0.68      0.76       389\n",
      "                               Licensing       0.88      0.61      0.72       299\n",
      "             Licensure and certification       0.86      0.57      0.69       293\n",
      "                          Liquidity Risk       0.88      0.59      0.71       181\n",
      "                                 Listing       0.89      0.72      0.80       342\n",
      "                            Market Abuse       0.95      0.77      0.85       200\n",
      "                             Market Risk       0.84      0.67      0.75       507\n",
      "            Monetary and Economic Policy       0.86      0.57      0.68       249\n",
      "                          Money Services       0.87      0.56      0.68       274\n",
      "Money-Laundering and Terrorist Financing       0.98      0.75      0.85       131\n",
      "                       Natural Disasters       0.94      0.79      0.86       325\n",
      "                Payments and Settlements       0.93      0.77      0.84       332\n",
      "                       Powers and Duties       0.80      0.42      0.55       242\n",
      "                               Quotation       0.94      0.71      0.81       182\n",
      "                     Records Maintenance       0.95      0.54      0.68       200\n",
      "                      Regulatory Actions       0.86      0.70      0.77       506\n",
      "                    Regulatory Reporting       0.79      0.52      0.62       318\n",
      "                    Required Disclosures       0.83      0.46      0.59       198\n",
      "                                Research       0.89      0.44      0.59       170\n",
      "                         Risk Management       0.88      0.63      0.73       313\n",
      "                     Securities Clearing       0.96      0.85      0.90       355\n",
      "                      Securities Issuing       0.85      0.64      0.73       323\n",
      "                   Securities Management       0.96      0.72      0.82       239\n",
      "                        Securities Sales       0.86      0.71      0.78       550\n",
      "                   Securities Settlement       0.93      0.78      0.85       254\n",
      "                           Trade Pricing       0.92      0.74      0.82       278\n",
      "                        Trade Settlement       0.90      0.68      0.77       229\n",
      "\n",
      "                               micro avg       0.90      0.66      0.76     14346\n",
      "                               macro avg       0.90      0.64      0.75     14346\n",
      "                            weighted avg       0.89      0.66      0.75     14346\n",
      "                             samples avg       0.79      0.63      0.68     14346\n",
      "\n"
     ]
    }
   ],
   "source": [
    "# Multi-label classification- Performance report\n",
    "from sklearn.metrics import classification_report\n",
    "# PREDICTING THE TEST DATA USING THE CLASSIFIER\n",
    "predicted = clf.predict(X_test)\n",
    "\n",
    "predicted.shape\n",
    "print(\"predicted:\")\n",
    "predicted[0:2]\n",
    "print(\"actual:\")\n",
    "Y_test[0:2]\n",
    "#PRINTING THE CLASSIFICATION REPORT\n",
    "print(classification_report\\\n",
    "      (Y_test, predicted, target_names=mlb.classes_, zero_division = 0))"
   ]
  },
  {
   "cell_type": "code",
   "execution_count": 90,
   "id": "c0e043e9",
   "metadata": {},
   "outputs": [
    {
     "data": {
      "text/plain": [
       "0.5944778716226037"
      ]
     },
     "execution_count": 90,
     "metadata": {},
     "output_type": "execute_result"
    }
   ],
   "source": [
    "# CREATED A FUNCTION TO CALCULATE THE HAMMING SCORE WHICH INDICATES THE ACCURACY FOR MULTI-LABEL CLASSIFICATION\n",
    "def hamming_score(y_true, y_pred):\n",
    "\n",
    "    acc_list = []\n",
    "    for i in range(y_true.shape[0]):\n",
    "        true_set = set( np.where(y_true[i])[0] )\n",
    "        predicted_set = set( np.where(y_pred[i])[0] )\n",
    "        tmp_a = None\n",
    "        if len(true_set) == 0 and len(predicted_set) == 0:\n",
    "            tmp_a = 1\n",
    "        else:\n",
    "            tmp_a = len(true_set.intersection(predicted_set))/\\\n",
    "                    float( len(true_set.union(predicted_set)) )\n",
    "        acc_list.append(tmp_a)\n",
    "    \n",
    "    return np.mean(acc_list)\n",
    "\n",
    "hamming_score(Y_test, predicted)"
   ]
  },
  {
   "cell_type": "code",
   "execution_count": 95,
   "id": "9cd77706",
   "metadata": {},
   "outputs": [
    {
     "data": {
      "text/plain": [
       "0.5944778716226037"
      ]
     },
     "execution_count": 95,
     "metadata": {},
     "output_type": "execute_result"
    }
   ],
   "source": [
    "# CALCULATING THE JACCARD SCORE WHICH INDICATES THE ACCURACY FOR MULTI-LABEL CLASSIFICATION\n",
    "from sklearn.metrics import jaccard_score\n",
    "j_score = jaccard_score(Y_test, predicted, average = 'samples')\n",
    "j_score"
   ]
  },
  {
   "cell_type": "code",
   "execution_count": 91,
   "id": "eac873d7-418b-42b6-86ce-22a1226d295f",
   "metadata": {},
   "outputs": [
    {
     "data": {
      "text/plain": [
       "0.04079107505070994"
      ]
     },
     "execution_count": 91,
     "metadata": {},
     "output_type": "execute_result"
    }
   ],
   "source": [
    "#CALCULATING HAMMING LOSS WHICH SHOWS THE FRACTION OF LABELS THAT ARE INCORRECTLY PREDICTED\n",
    "from sklearn.metrics import hamming_loss\n",
    "hloss = hamming_loss(Y_test,predicted)\n",
    "hloss"
   ]
  },
  {
   "cell_type": "code",
   "execution_count": 54,
   "id": "14c09ae7",
   "metadata": {},
   "outputs": [],
   "source": [
    "x = ['Commission de Surveillance du Secteur Financier (CSSF) updated questions and answers with regard to Covid-19. The questions are regarding: Can Less Significant Institutions temporarily exclude certain exposures to central banks from the leverage ratio calculation pursuant to Article 500b of Regulation (EU) 575/2013 as amended in the context of the COVID-19 pandemic; Can the remuneration benchmarking exercise of the European Banking Authority (EBA) be postponed; Can the data collection exercise regarding high earners by the European Banking Authority (EBA) be postponed; Can the deadlines for the submission of the closing documents of specialised PFS be postponed; What is the general prudential treatment of a moratorium and how should it be applied to COVID-19 private industry-wide moratoria; How can institutions invoke the dedicated prudential treatment related to the COVID-19 private industry-wide moratoria; What are the consequences on the phasing-out of EBA-eligible payment moratoria; What is the CSSF’s position concerning the deadlines applicable under the UCITS Directive and under the AIFMD for annual and half-yearly reports; What is the flexibility offered by IFRS 9 in order to mitigate volatility in the banks’ regulatory capital, financial statements and reporting of the banks regarding the COVID-19 pandemic; What is the CSSF policy stance as regards banks’ distribution policies aimed at remunerating shareholders, as well as on variable remuneration in the COVID-19 context; Can the deadlines for the reports to be submitted by payment institutions and electronic money institutions be extended; Can the deadlines for the reports to be submitted by the investment firms be extended; Can the deadlines for the reports to be submitted by the support PFS be extended; What are the purpose and the main elements covered in the publications of the EBA dated March 25, 2020 in the context of COVID-19; Can the deadlines for the reports to be submitted by the banks be extended; Temporary waiver of prior authorisation/notification requirements for cloud-based outsourcing; Can UCIs (UCITS, UCI Part II & SIFs) increase the swing factor to be applied on the NAV up to the maximum level laid down in the prospectus; the ECB has communicated on a number of measures to alleviate the impacts of COVID-19 on Significant Institutions, will Less Significant Institutions also be able to benefit from similar measures; Does the recommendation made to financial institutions subject to the CSSF’s prudential supervision to favour work from home in the framework of their business continuity plan; and what are the minimum IT security conditions recommended for remote access']"
   ]
  },
  {
   "cell_type": "code",
   "execution_count": 55,
   "id": "3e0c05da",
   "metadata": {},
   "outputs": [],
   "source": [
    "dtm_test = tfidf.transform(x)"
   ]
  },
  {
   "cell_type": "code",
   "execution_count": 57,
   "id": "28d2a658-6a52-459a-ac7e-b62877f1949e",
   "metadata": {},
   "outputs": [
    {
     "data": {
      "text/plain": [
       "array([[1, 0, 1, 0, 0, 0, 0, 0, 0, 0, 0, 0, 0, 0, 1, 1, 0, 0, 0, 0, 1, 0,\n",
       "        0, 0, 0, 0, 0, 0, 0, 0, 0, 1, 0, 1, 0, 0, 0, 0, 0, 1, 1, 0, 0, 0,\n",
       "        0, 0, 0, 0, 0, 0]])"
      ]
     },
     "execution_count": 57,
     "metadata": {},
     "output_type": "execute_result"
    }
   ],
   "source": [
    "clf.predict(dtm_test)"
   ]
  },
  {
   "cell_type": "code",
   "execution_count": 68,
   "id": "9765f92b-6835-4ee0-a01a-481dddff10f4",
   "metadata": {},
   "outputs": [],
   "source": [
    "#mlb.classes_"
   ]
  },
  {
   "cell_type": "code",
   "execution_count": 58,
   "id": "90f3ce40-d28d-4530-91af-f7a71e99cf1a",
   "metadata": {},
   "outputs": [
    {
     "data": {
      "text/plain": [
       "[('Accounting and Finance',\n",
       "  'Banking',\n",
       "  'Fees and Charges',\n",
       "  'Financial Accounting',\n",
       "  'Information Filing',\n",
       "  'Money Services',\n",
       "  'Natural Disasters',\n",
       "  'Regulatory Reporting',\n",
       "  'Required Disclosures')]"
      ]
     },
     "execution_count": 58,
     "metadata": {},
     "output_type": "execute_result"
    }
   ],
   "source": [
    "mlb.inverse_transform(clf.predict(dtm_test))"
   ]
  },
  {
   "cell_type": "code",
   "execution_count": null,
   "id": "a57df4cf-3f97-44a7-a370-008d8484693d",
   "metadata": {},
   "outputs": [],
   "source": []
  },
  {
   "cell_type": "code",
   "execution_count": null,
   "id": "fed6c813-38df-40c3-a48e-4f695625e9b0",
   "metadata": {},
   "outputs": [],
   "source": []
  }
 ],
 "metadata": {
  "kernelspec": {
   "display_name": "Python 3",
   "language": "python",
   "name": "python3"
  },
  "language_info": {
   "codemirror_mode": {
    "name": "ipython",
    "version": 3
   },
   "file_extension": ".py",
   "mimetype": "text/x-python",
   "name": "python",
   "nbconvert_exporter": "python",
   "pygments_lexer": "ipython3",
   "version": "3.11.0"
  },
  "vscode": {
   "interpreter": {
    "hash": "72b2382ece9768098284d92bbc69d35954e75b60d1e25897d1389c232f4796f0"
   }
  }
 },
 "nbformat": 4,
 "nbformat_minor": 5
}
